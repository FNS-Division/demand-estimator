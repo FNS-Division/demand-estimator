{
 "cells": [
  {
   "cell_type": "markdown",
   "metadata": {},
   "source": [
    "## Load dependencies"
   ]
  },
  {
   "cell_type": "code",
   "execution_count": null,
   "metadata": {},
   "outputs": [],
   "source": [
    "import pandas as pd\n",
    "import geopandas as gpd\n",
    "import folium\n",
    "import time\n",
    "import os\n",
    "import sys\n",
    "path = os.path.abspath('../')\n",
    "print(f\"The project folder path is {path}\")\n",
    "sys.path.append(path)\n",
    "from demand.entities.pointofinterest import PointOfInterestCollection\n",
    "from demand.handlers.populationdatahandler import PopulationDataHandler\n",
    "from demand.demand.demand import Demand\n",
    "from demand.utils import setup_logger, generate_dataset_id, create_bubble_map"
   ]
  },
  {
   "cell_type": "markdown",
   "metadata": {},
   "source": [
    "## Data config\n",
    "Edit the below cell to point to the correct data\n",
    "* `country_code` of the desired data\n",
    "* pointofinterest is the name of the file containing the pointofinterest , it is located in `/data/country_code/input`\n",
    "\n",
    "**Example:**\n",
    "```python \n",
    "country_code = 'ESP'\n",
    "dataset_id = 'ESP-1697915895-xs2u-pointofinterest.csv'\n",
    "```"
   ]
  },
  {
   "cell_type": "code",
   "execution_count": null,
   "metadata": {},
   "outputs": [],
   "source": [
    "country_code = 'ESP'\n",
    "poi_dataset_id = 'ESP-1697915895-xs2u-pointofinterest.csv'"
   ]
  },
  {
   "cell_type": "code",
   "execution_count": null,
   "metadata": {},
   "outputs": [],
   "source": [
    "poi_filepath = f'{path}/data/{country_code}/input/{poi_dataset_id}'\n",
    "log_folder = f'{path}/logs'\n",
    "population_data_folder = f'{path}/data/population'"
   ]
  },
  {
   "cell_type": "markdown",
   "metadata": {},
   "source": [
    "## Analysis config"
   ]
  },
  {
   "cell_type": "code",
   "execution_count": null,
   "metadata": {},
   "outputs": [],
   "source": [
    "radii = [1, 2, 3]\n",
    "radius_for_demand = 1\n",
    "dataset_year = 2020\n",
    "one_km_res = True\n",
    "un_adjusted = True\n",
    "overlap_allowed = False\n",
    "mbps_demand_per_user = 5\n",
    "are_poi_schools = False"
   ]
  },
  {
   "cell_type": "markdown",
   "metadata": {},
   "source": [
    "## Helpers"
   ]
  },
  {
   "cell_type": "code",
   "execution_count": null,
   "metadata": {},
   "outputs": [],
   "source": [
    "# Set up a logger\n",
    "logger = setup_logger(f'pcd_{country_code}', log_filepath=f'{log_folder}/{country_code}-{round(time.time())}-pcd.log')"
   ]
  },
  {
   "cell_type": "code",
   "execution_count": null,
   "metadata": {},
   "outputs": [],
   "source": [
    "# Set up the population data handler\n",
    "population_data_handler = PopulationDataHandler(\n",
    "    data_dir = population_data_folder,\n",
    "    country_code = country_code,\n",
    "    dataset_year = dataset_year,\n",
    "    one_km_res = one_km_res,\n",
    "    un_adjusted = un_adjusted,\n",
    "    logger = logger)"
   ]
  },
  {
   "cell_type": "markdown",
   "metadata": {},
   "source": [
    "## Load data"
   ]
  },
  {
   "cell_type": "code",
   "execution_count": null,
   "metadata": {},
   "outputs": [],
   "source": [
    "# Load point of interest data as records\n",
    "entity_records = pd.read_csv(poi_filepath).to_dict('records')\n",
    "\n",
    "# Load population data into a collection\n",
    "pointofinterest_collection = PointOfInterestCollection()\n",
    "pointofinterest_collection.load_from_records(entity_records)"
   ]
  },
  {
   "cell_type": "markdown",
   "metadata": {},
   "source": [
    "## Initialize `Demand` class"
   ]
  },
  {
   "cell_type": "code",
   "execution_count": null,
   "metadata": {},
   "outputs": [],
   "source": [
    "demand = Demand(\n",
    "    points_of_interest = pointofinterest_collection,\n",
    "    population_data_handler = population_data_handler,\n",
    "    radii = radii,\n",
    "    logger = logger,\n",
    "    overlap_allowed = overlap_allowed,\n",
    "    mbps_demand_per_user = mbps_demand_per_user,\n",
    "    are_poi_schools = are_poi_schools)"
   ]
  },
  {
   "cell_type": "markdown",
   "metadata": {},
   "source": [
    "## Perform Analysis"
   ]
  },
  {
   "cell_type": "code",
   "execution_count": null,
   "metadata": {},
   "outputs": [],
   "source": [
    "demand.perform_analysis()"
   ]
  },
  {
   "cell_type": "code",
   "execution_count": null,
   "metadata": {},
   "outputs": [],
   "source": [
    "results = demand.get_results_table()"
   ]
  },
  {
   "cell_type": "code",
   "execution_count": null,
   "metadata": {},
   "outputs": [],
   "source": [
    "results.head()"
   ]
  },
  {
   "cell_type": "markdown",
   "metadata": {},
   "source": [
    "## Charts"
   ]
  },
  {
   "cell_type": "code",
   "execution_count": null,
   "metadata": {},
   "outputs": [],
   "source": [
    "lat = pointofinterest_collection.get_lat_lon_pairs()[:,0]\n",
    "lon = pointofinterest_collection.get_lat_lon_pairs()[:,1]\n",
    "points = gpd.GeoDataFrame(results[['poi_id','number_of_users','total_mbps']].set_index('poi_id'), geometry=gpd.points_from_xy(lon, lat, crs=\"EPSG:4326\"))"
   ]
  },
  {
   "cell_type": "code",
   "execution_count": null,
   "metadata": {},
   "outputs": [],
   "source": [
    "create_bubble_map(points,\"total_mbps\",\"blue\")"
   ]
  },
  {
   "cell_type": "markdown",
   "metadata": {},
   "source": [
    "## Save Results"
   ]
  },
  {
   "cell_type": "code",
   "execution_count": null,
   "metadata": {},
   "outputs": [],
   "source": [
    "dataset_id = generate_dataset_id(prefix=country_code)\n",
    "output_folder = f'{path}/data/{country_code}/output/'\n",
    "os.makedirs(output_folder, exist_ok=True)\n",
    "results.to_json(f'{output_folder}/{dataset_id}-demand.json')"
   ]
  }
 ],
 "metadata": {
  "kernelspec": {
   "display_name": "demand-env",
   "language": "python",
   "name": "python3"
  },
  "language_info": {
   "codemirror_mode": {
    "name": "ipython",
    "version": 3
   },
   "file_extension": ".py",
   "mimetype": "text/x-python",
   "name": "python",
   "nbconvert_exporter": "python",
   "pygments_lexer": "ipython3",
   "version": "3.9.18"
  }
 },
 "nbformat": 4,
 "nbformat_minor": 4
}
