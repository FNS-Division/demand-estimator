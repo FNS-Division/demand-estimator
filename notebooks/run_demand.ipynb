{
 "cells": [
  {
   "cell_type": "markdown",
   "metadata": {},
   "source": [
    "## Load dependencies"
   ]
  },
  {
   "cell_type": "code",
   "execution_count": 1,
   "metadata": {},
   "outputs": [
    {
     "name": "stdout",
     "output_type": "stream",
     "text": [
      "The project path is c:\\Users\\peytrign\\Documents\\demand-estimator\n"
     ]
    }
   ],
   "source": [
    "import pandas as pd\n",
    "import time\n",
    "import os\n",
    "import sys\n",
    "path = os.path.abspath('../')\n",
    "print(f\"The project path is {path}\")\n",
    "sys.path.append(path)\n",
    "from demand.entities.pointofinterest import PointOfInterestCollection\n",
    "from demand.handlers.populationdatahandler import PopulationDataHandler\n",
    "from demand.demand.demand import Demand\n",
    "from demand.utils import setup_logger, generate_dataset_id"
   ]
  },
  {
   "cell_type": "markdown",
   "metadata": {},
   "source": [
    "## Data config\n",
    "Edit the below cell to point to the correct data\n",
    "* `country_code` of the desired data\n",
    "* pointofinterest is the name of the file containing the pointofinterest , it is located in `/data/country_code/input`\n",
    "\n",
    "Example:\n",
    "```python \n",
    "country_code = 'ESP'\n",
    "dataset_ids = dict(\n",
    "    pointofinterest = 'ESP-1697915895-xs2u-pointofinterest.csv',\n",
    ")\n",
    "\n",
    "```"
   ]
  },
  {
   "cell_type": "code",
   "execution_count": 2,
   "metadata": {},
   "outputs": [],
   "source": [
    "country_code = 'ESP'\n",
    "dataset_id = 'ESP-1697915895-xs2u-pointofinterest.csv'"
   ]
  },
  {
   "cell_type": "markdown",
   "metadata": {},
   "source": [
    "## Analysis config"
   ]
  },
  {
   "cell_type": "code",
   "execution_count": 3,
   "metadata": {},
   "outputs": [],
   "source": [
    "radii = [1, 2, 3]\n",
    "radius_for_demand = 1\n",
    "dataset_year = 2020\n",
    "one_km_res = True\n",
    "un_adjusted = True\n",
    "overlap_allowed = False\n",
    "mbps_demand_per_user = 5\n",
    "are_poi_schools = False"
   ]
  },
  {
   "cell_type": "markdown",
   "metadata": {},
   "source": [
    "## Helpers"
   ]
  },
  {
   "cell_type": "code",
   "execution_count": 4,
   "metadata": {},
   "outputs": [],
   "source": [
    "# Set up a logger\n",
    "logger = setup_logger(f'pcd_{country_code}', log_filepath=f'{path}/logs/{country_code}-{round(time.time())}-pcd.log')"
   ]
  },
  {
   "cell_type": "code",
   "execution_count": 5,
   "metadata": {},
   "outputs": [],
   "source": [
    "# Set up the population data handler\n",
    "population_data_handler = PopulationDataHandler(\n",
    "    data_dir = f'{path}/data/population',\n",
    "    country_code = country_code,\n",
    "    dataset_year = dataset_year,\n",
    "    one_km_res = one_km_res,\n",
    "    un_adjusted = un_adjusted,\n",
    "    logger = logger)"
   ]
  },
  {
   "cell_type": "markdown",
   "metadata": {},
   "source": [
    "## Load data"
   ]
  },
  {
   "cell_type": "code",
   "execution_count": 6,
   "metadata": {},
   "outputs": [],
   "source": [
    "# Load point of interest data as records\n",
    "filepath = f\"{path}/data/{country_code}/input/{dataset_id}\"\n",
    "entity_records = pd.read_csv(filepath).to_dict('records')\n",
    "\n",
    "# Load population data into a collection\n",
    "pointofinterest_collection = PointOfInterestCollection()\n",
    "pointofinterest_collection.load_from_records(entity_records)"
   ]
  },
  {
   "cell_type": "markdown",
   "metadata": {},
   "source": [
    "## Initialize `Demand` class"
   ]
  },
  {
   "cell_type": "code",
   "execution_count": 7,
   "metadata": {},
   "outputs": [
    {
     "name": "stderr",
     "output_type": "stream",
     "text": [
      "2024-11-25 14:29:24,378 - pcd_ESP - INFO - Processing population tif file...\n",
      "2024-11-25 14:29:24,639 - pcd_ESP - INFO - Population tif file is processed!\n"
     ]
    }
   ],
   "source": [
    "demand = Demand(\n",
    "    points_of_interest = pointofinterest_collection,\n",
    "    population_data_handler = population_data_handler,\n",
    "    radii = radii,\n",
    "    logger = logger,\n",
    "    overlap_allowed = overlap_allowed,\n",
    "    mbps_demand_per_user = mbps_demand_per_user,\n",
    "    are_poi_schools = are_poi_schools)"
   ]
  },
  {
   "cell_type": "markdown",
   "metadata": {},
   "source": [
    "## Perform Analysis"
   ]
  },
  {
   "cell_type": "code",
   "execution_count": 8,
   "metadata": {},
   "outputs": [
    {
     "name": "stderr",
     "output_type": "stream",
     "text": [
      "2024-11-25 14:29:25,681 - pcd_ESP - INFO - Creating Voronoi diagram around POIs...\n",
      "2024-11-25 14:29:25,783 - pcd_ESP - INFO - Overlaying population data for 1km radius around a point of interest...\n",
      "2024-11-25 14:29:26,635 - pcd_ESP - INFO - Gathering point of interest count for 1km radius around point...\n",
      "2024-11-25 14:29:26,743 - pcd_ESP - INFO - Overlaying population data for 2km radius around a point of interest...\n",
      "2024-11-25 14:29:27,266 - pcd_ESP - INFO - Gathering point of interest count for 2km radius around point...\n",
      "2024-11-25 14:29:27,305 - pcd_ESP - INFO - Overlaying population data for 3km radius around a point of interest...\n",
      "2024-11-25 14:29:27,883 - pcd_ESP - INFO - Gathering point of interest count for 3km radius around point...\n"
     ]
    },
    {
     "name": "stdout",
     "output_type": "stream",
     "text": [
      "Demand Analysis Summary:\n",
      "Number of points of interest: 100\n",
      "Country population count: 46754784.0\n",
      "Mean population count of 1km area around a point of interest: 742.58\n",
      "Median population count of 1km area around a point of interest: 157.5\n",
      "Sum population count of 1km area around a point of interest: 74258\n",
      "Mean point of interest count of 1km area around a point of interest: 1.0\n",
      "Median point of interest count of 1km area around a point of interest: 1.0\n",
      "Sum point of interest count of 1km area around a point of interest: 100\n",
      "Mean population count of 2km area around a point of interest: 1418.36\n",
      "Median population count of 2km area around a point of interest: 366.0\n",
      "Sum population count of 2km area around a point of interest: 141836\n",
      "Mean point of interest count of 2km area around a point of interest: 1.0\n",
      "Median point of interest count of 2km area around a point of interest: 1.0\n",
      "Sum point of interest count of 2km area around a point of interest: 100\n",
      "Mean population count of 3km area around a point of interest: 1483.85\n",
      "Median population count of 3km area around a point of interest: 426.0\n",
      "Sum population count of 3km area around a point of interest: 148385\n",
      "Mean point of interest count of 3km area around a point of interest: 1.0\n",
      "Median point of interest count of 3km area around a point of interest: 1.0\n",
      "Sum point of interest count of 3km area around a point of interest: 100\n",
      "Time taken for analysis: 3.3 seconds\n",
      "\n"
     ]
    }
   ],
   "source": [
    "demand.perform_analysis()"
   ]
  },
  {
   "cell_type": "code",
   "execution_count": 9,
   "metadata": {},
   "outputs": [],
   "source": [
    "d_results = demand.get_results_table()"
   ]
  },
  {
   "cell_type": "code",
   "execution_count": 10,
   "metadata": {},
   "outputs": [
    {
     "data": {
      "text/html": [
       "<div>\n",
       "<style scoped>\n",
       "    .dataframe tbody tr th:only-of-type {\n",
       "        vertical-align: middle;\n",
       "    }\n",
       "\n",
       "    .dataframe tbody tr th {\n",
       "        vertical-align: top;\n",
       "    }\n",
       "\n",
       "    .dataframe thead th {\n",
       "        text-align: right;\n",
       "    }\n",
       "</style>\n",
       "<table border=\"1\" class=\"dataframe\">\n",
       "  <thead>\n",
       "    <tr style=\"text-align: right;\">\n",
       "      <th></th>\n",
       "      <th>poi_id</th>\n",
       "      <th>population</th>\n",
       "      <th>poi_count</th>\n",
       "      <th>number_of_users</th>\n",
       "      <th>total_mbps</th>\n",
       "    </tr>\n",
       "  </thead>\n",
       "  <tbody>\n",
       "    <tr>\n",
       "      <th>0</th>\n",
       "      <td>23dd6a45-3656-435b-b3b1-c16efab9daeb</td>\n",
       "      <td>{'population_1km': 328, 'population_2km': 1097...</td>\n",
       "      <td>{'poi_count_1km': 1, 'poi_count_2km': 1, 'poi_...</td>\n",
       "      <td>328</td>\n",
       "      <td>1640</td>\n",
       "    </tr>\n",
       "    <tr>\n",
       "      <th>1</th>\n",
       "      <td>e13a657c-edf0-4013-92db-6c70136e3ac9</td>\n",
       "      <td>{'population_1km': 24, 'population_2km': 32, '...</td>\n",
       "      <td>{'poi_count_1km': 1, 'poi_count_2km': 1, 'poi_...</td>\n",
       "      <td>24</td>\n",
       "      <td>120</td>\n",
       "    </tr>\n",
       "    <tr>\n",
       "      <th>2</th>\n",
       "      <td>de75c87b-2676-47be-8454-4c44c4e6f644</td>\n",
       "      <td>{'population_1km': 103, 'population_2km': 207,...</td>\n",
       "      <td>{'poi_count_1km': 1, 'poi_count_2km': 1, 'poi_...</td>\n",
       "      <td>103</td>\n",
       "      <td>515</td>\n",
       "    </tr>\n",
       "    <tr>\n",
       "      <th>3</th>\n",
       "      <td>4267fc81-0e9f-40ca-84c8-84529958dc22</td>\n",
       "      <td>{'population_1km': 149, 'population_2km': 326,...</td>\n",
       "      <td>{'poi_count_1km': 1, 'poi_count_2km': 1, 'poi_...</td>\n",
       "      <td>149</td>\n",
       "      <td>745</td>\n",
       "    </tr>\n",
       "    <tr>\n",
       "      <th>4</th>\n",
       "      <td>ae0ccc6e-5f91-4a58-a60b-68e8ebcdc797</td>\n",
       "      <td>{'population_1km': 213, 'population_2km': 213,...</td>\n",
       "      <td>{'poi_count_1km': 1, 'poi_count_2km': 1, 'poi_...</td>\n",
       "      <td>213</td>\n",
       "      <td>1065</td>\n",
       "    </tr>\n",
       "  </tbody>\n",
       "</table>\n",
       "</div>"
      ],
      "text/plain": [
       "                                 poi_id  \\\n",
       "0  23dd6a45-3656-435b-b3b1-c16efab9daeb   \n",
       "1  e13a657c-edf0-4013-92db-6c70136e3ac9   \n",
       "2  de75c87b-2676-47be-8454-4c44c4e6f644   \n",
       "3  4267fc81-0e9f-40ca-84c8-84529958dc22   \n",
       "4  ae0ccc6e-5f91-4a58-a60b-68e8ebcdc797   \n",
       "\n",
       "                                          population  \\\n",
       "0  {'population_1km': 328, 'population_2km': 1097...   \n",
       "1  {'population_1km': 24, 'population_2km': 32, '...   \n",
       "2  {'population_1km': 103, 'population_2km': 207,...   \n",
       "3  {'population_1km': 149, 'population_2km': 326,...   \n",
       "4  {'population_1km': 213, 'population_2km': 213,...   \n",
       "\n",
       "                                           poi_count  number_of_users  \\\n",
       "0  {'poi_count_1km': 1, 'poi_count_2km': 1, 'poi_...              328   \n",
       "1  {'poi_count_1km': 1, 'poi_count_2km': 1, 'poi_...               24   \n",
       "2  {'poi_count_1km': 1, 'poi_count_2km': 1, 'poi_...              103   \n",
       "3  {'poi_count_1km': 1, 'poi_count_2km': 1, 'poi_...              149   \n",
       "4  {'poi_count_1km': 1, 'poi_count_2km': 1, 'poi_...              213   \n",
       "\n",
       "   total_mbps  \n",
       "0        1640  \n",
       "1         120  \n",
       "2         515  \n",
       "3         745  \n",
       "4        1065  "
      ]
     },
     "execution_count": 10,
     "metadata": {},
     "output_type": "execute_result"
    }
   ],
   "source": [
    "d_results.head()"
   ]
  },
  {
   "cell_type": "markdown",
   "metadata": {},
   "source": [
    "## Save Results"
   ]
  },
  {
   "cell_type": "code",
   "execution_count": 12,
   "metadata": {},
   "outputs": [],
   "source": [
    "dataset_id = generate_dataset_id(prefix=country_code)\n",
    "output_folder = f'{path}/data/{country_code}/output/'\n",
    "os.makedirs(output_folder, exist_ok=True)\n",
    "d_results.to_json(f'{output_folder}/{dataset_id}-demand.json')"
   ]
  }
 ],
 "metadata": {
  "kernelspec": {
   "display_name": "giga-inframapkit-env",
   "language": "python",
   "name": "python3"
  },
  "language_info": {
   "codemirror_mode": {
    "name": "ipython",
    "version": 3
   },
   "file_extension": ".py",
   "mimetype": "text/x-python",
   "name": "python",
   "nbconvert_exporter": "python",
   "pygments_lexer": "ipython3",
   "version": "3.9.18"
  }
 },
 "nbformat": 4,
 "nbformat_minor": 4
}
